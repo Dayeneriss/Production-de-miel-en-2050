{
  "nbformat": 4,
  "nbformat_minor": 0,
  "metadata": {
    "colab": {
      "name": "production de miel en 2050",
      "provenance": [],
      "collapsed_sections": []
    },
    "kernelspec": {
      "name": "python3",
      "display_name": "Python 3"
    }
  },
  "cells": [
    {
      "cell_type": "markdown",
      "metadata": {
        "id": "WNkSF2CUL-75",
        "colab_type": "text"
      },
      "source": [
        "Nous observons depuis quelques années, le déclin de la population d'abeilles mellifères; nous allons donc étudier ce déclin et comment les tendances du passé prédisent l'avenir des abeilles."
      ]
    },
    {
      "cell_type": "code",
      "metadata": {
        "id": "C5wpmLYVQo15",
        "colab_type": "code",
        "colab": {}
      },
      "source": [
        "import pandas as pd\n",
        "import matplotlib.pyplot as plt\n",
        "import numpy as np\n",
        "from sklearn import linear_model"
      ],
      "execution_count": 0,
      "outputs": []
    },
    {
      "cell_type": "code",
      "metadata": {
        "id": "WwRJGRg8Q42u",
        "colab_type": "code",
        "colab": {}
      },
      "source": [
        "df = pd.read_csv(\"https://s3.amazonaws.com/codecademy-content/programs/data-science-path/linear_regression/honeyproduction.csv\")"
      ],
      "execution_count": 0,
      "outputs": []
    },
    {
      "cell_type": "code",
      "metadata": {
        "id": "6gvL7_jRRAnm",
        "colab_type": "code",
        "outputId": "5e53368f-f3e3-465f-9aa0-6f487df8230f",
        "colab": {
          "base_uri": "https://localhost:8080/",
          "height": 198
        }
      },
      "source": [
        "df.head()"
      ],
      "execution_count": 0,
      "outputs": [
        {
          "output_type": "execute_result",
          "data": {
            "text/html": [
              "<div>\n",
              "<style scoped>\n",
              "    .dataframe tbody tr th:only-of-type {\n",
              "        vertical-align: middle;\n",
              "    }\n",
              "\n",
              "    .dataframe tbody tr th {\n",
              "        vertical-align: top;\n",
              "    }\n",
              "\n",
              "    .dataframe thead th {\n",
              "        text-align: right;\n",
              "    }\n",
              "</style>\n",
              "<table border=\"1\" class=\"dataframe\">\n",
              "  <thead>\n",
              "    <tr style=\"text-align: right;\">\n",
              "      <th></th>\n",
              "      <th>state</th>\n",
              "      <th>numcol</th>\n",
              "      <th>yieldpercol</th>\n",
              "      <th>totalprod</th>\n",
              "      <th>stocks</th>\n",
              "      <th>priceperlb</th>\n",
              "      <th>prodvalue</th>\n",
              "      <th>year</th>\n",
              "    </tr>\n",
              "  </thead>\n",
              "  <tbody>\n",
              "    <tr>\n",
              "      <th>0</th>\n",
              "      <td>AL</td>\n",
              "      <td>16000.0</td>\n",
              "      <td>71</td>\n",
              "      <td>1136000.0</td>\n",
              "      <td>159000.0</td>\n",
              "      <td>0.72</td>\n",
              "      <td>818000.0</td>\n",
              "      <td>1998</td>\n",
              "    </tr>\n",
              "    <tr>\n",
              "      <th>1</th>\n",
              "      <td>AZ</td>\n",
              "      <td>55000.0</td>\n",
              "      <td>60</td>\n",
              "      <td>3300000.0</td>\n",
              "      <td>1485000.0</td>\n",
              "      <td>0.64</td>\n",
              "      <td>2112000.0</td>\n",
              "      <td>1998</td>\n",
              "    </tr>\n",
              "    <tr>\n",
              "      <th>2</th>\n",
              "      <td>AR</td>\n",
              "      <td>53000.0</td>\n",
              "      <td>65</td>\n",
              "      <td>3445000.0</td>\n",
              "      <td>1688000.0</td>\n",
              "      <td>0.59</td>\n",
              "      <td>2033000.0</td>\n",
              "      <td>1998</td>\n",
              "    </tr>\n",
              "    <tr>\n",
              "      <th>3</th>\n",
              "      <td>CA</td>\n",
              "      <td>450000.0</td>\n",
              "      <td>83</td>\n",
              "      <td>37350000.0</td>\n",
              "      <td>12326000.0</td>\n",
              "      <td>0.62</td>\n",
              "      <td>23157000.0</td>\n",
              "      <td>1998</td>\n",
              "    </tr>\n",
              "    <tr>\n",
              "      <th>4</th>\n",
              "      <td>CO</td>\n",
              "      <td>27000.0</td>\n",
              "      <td>72</td>\n",
              "      <td>1944000.0</td>\n",
              "      <td>1594000.0</td>\n",
              "      <td>0.70</td>\n",
              "      <td>1361000.0</td>\n",
              "      <td>1998</td>\n",
              "    </tr>\n",
              "  </tbody>\n",
              "</table>\n",
              "</div>"
            ],
            "text/plain": [
              "  state    numcol  yieldpercol  ...  priceperlb   prodvalue  year\n",
              "0    AL   16000.0           71  ...        0.72    818000.0  1998\n",
              "1    AZ   55000.0           60  ...        0.64   2112000.0  1998\n",
              "2    AR   53000.0           65  ...        0.59   2033000.0  1998\n",
              "3    CA  450000.0           83  ...        0.62  23157000.0  1998\n",
              "4    CO   27000.0           72  ...        0.70   1361000.0  1998\n",
              "\n",
              "[5 rows x 8 columns]"
            ]
          },
          "metadata": {
            "tags": []
          },
          "execution_count": 4
        }
      ]
    },
    {
      "cell_type": "code",
      "metadata": {
        "id": "NoaaKASfRICb",
        "colab_type": "code",
        "outputId": "3c4f2b74-ed3f-46a8-b505-dfa502825182",
        "colab": {
          "base_uri": "https://localhost:8080/",
          "height": 308
        }
      },
      "source": [
        "\"\"\"total production of honey per year:\"\"\"\n",
        "prod_per_year = df.groupby('year').totalprod.mean().reset_index()\n",
        "print(prod_per_year)"
      ],
      "execution_count": 0,
      "outputs": [
        {
          "output_type": "stream",
          "text": [
            "    year     totalprod\n",
            "0   1998  5.105093e+06\n",
            "1   1999  4.706674e+06\n",
            "2   2000  5.106000e+06\n",
            "3   2001  4.221545e+06\n",
            "4   2002  3.892386e+06\n",
            "5   2003  4.122091e+06\n",
            "6   2004  4.456805e+06\n",
            "7   2005  4.243146e+06\n",
            "8   2006  3.761902e+06\n",
            "9   2007  3.600512e+06\n",
            "10  2008  3.974927e+06\n",
            "11  2009  3.626700e+06\n",
            "12  2010  4.382350e+06\n",
            "13  2011  3.680025e+06\n",
            "14  2012  3.522675e+06\n"
          ],
          "name": "stdout"
        }
      ]
    },
    {
      "cell_type": "code",
      "metadata": {
        "id": "ByS1Bg7RRZk0",
        "colab_type": "code",
        "outputId": "5417962e-4cde-4632-c635-f67dc9bc87b2",
        "colab": {
          "base_uri": "https://localhost:8080/",
          "height": 295
        }
      },
      "source": [
        "X = prod_per_year['year'].values.reshape(-1,1)\n",
        "y= prod_per_year['totalprod']\n",
        "plt.scatter(X,y)\n",
        "plt.xlabel(\"Year\")\n",
        "plt.ylabel(\"Total Production\")\n",
        "plt.title(\" Production per year\")\n",
        "plt.show()"
      ],
      "execution_count": 0,
      "outputs": [
        {
          "output_type": "display_data",
          "data": {
            "image/png": "[encoded data removed]",
            "text/plain": [
              "<Figure size 432x288 with 1 Axes>"
            ]
          },
          "metadata": {
            "tags": []
          }
        }
      ]
    },
    {
      "cell_type": "code",
      "metadata": {
        "id": "527KDvdeSQjy",
        "colab_type": "code",
        "outputId": "dc336091-7833-4b88-c5bb-d96720843dc9",
        "colab": {
          "base_uri": "https://localhost:8080/",
          "height": 35
        }
      },
      "source": [
        "\"\"\"Create and Fit a Linear Regression Model:\"\"\"\n",
        "regr =  linear_model.LinearRegression()\n",
        "regr.fit(X,y)\n",
        "print(regr.coef_[0])"
      ],
      "execution_count": 0,
      "outputs": [
        {
          "output_type": "stream",
          "text": [
            "-88303.18915238192\n"
          ],
          "name": "stdout"
        }
      ]
    },
    {
      "cell_type": "code",
      "metadata": {
        "id": "LBhss8A6SY9R",
        "colab_type": "code",
        "outputId": "80fc4312-1080-46c4-9e87-7ffefa63dc3e",
        "colab": {
          "base_uri": "https://localhost:8080/",
          "height": 35
        }
      },
      "source": [
        "print(regr.intercept_)"
      ],
      "execution_count": 0,
      "outputs": [
        {
          "output_type": "stream",
          "text": [
            "181208083.10732976\n"
          ],
          "name": "stdout"
        }
      ]
    },
    {
      "cell_type": "code",
      "metadata": {
        "id": "j0rn5yFSSjaa",
        "colab_type": "code",
        "outputId": "eff82bf8-e02a-4c68-ad8f-61c78097c928",
        "colab": {
          "base_uri": "https://localhost:8080/",
          "height": 90
        }
      },
      "source": [
        "y_predict= regr.predict(X)\n",
        "print(y_predict)"
      ],
      "execution_count": 0,
      "outputs": [
        {
          "output_type": "stream",
          "text": [
            "[4778311.18087068 4690007.99171829 4601704.8025659  4513401.61341354\n",
            " 4425098.42426115 4336795.23510876 4248492.04595637 4160188.85680401\n",
            " 4071885.66765162 3983582.47849923 3895279.28934684 3806976.10019448\n",
            " 3718672.91104209 3630369.7218897  3542066.53273734]\n"
          ],
          "name": "stdout"
        }
      ]
    },
    {
      "cell_type": "code",
      "metadata": {
        "id": "725mt-rCSpOS",
        "colab_type": "code",
        "colab": {}
      },
      "source": [
        "y_predict= regr.predict(X)\n",
        "#print(y_predict)"
      ],
      "execution_count": 0,
      "outputs": []
    },
    {
      "cell_type": "code",
      "metadata": {
        "id": "PpfKGNkhSvDp",
        "colab_type": "code",
        "outputId": "c977fd91-2037-4065-9685-89926a2eba55",
        "colab": {
          "base_uri": "https://localhost:8080/",
          "height": 295
        }
      },
      "source": [
        "X = prod_per_year['year'].values.reshape(-1,1)\n",
        "y= prod_per_year['totalprod']\n",
        "plt.scatter(X,y)\n",
        "plt.xlabel(\"Year\")\n",
        "plt.ylabel(\"Total Production\")\n",
        "plt.title(\" Production per year\")\n",
        "plt.plot(X, y_predict)\n",
        "plt.show()"
      ],
      "execution_count": 0,
      "outputs": [
        {
          "output_type": "display_data",
          "data": {
            "image/png": "[encoded data removed]",
            "text/plain": [
              "<Figure size 432x288 with 1 Axes>"
            ]
          },
          "metadata": {
            "tags": []
          }
        }
      ]
    },
    {
      "cell_type": "markdown",
      "metadata": {
        "id": "RlUl-mTsVmPJ",
        "colab_type": "text"
      },
      "source": [
        "The production of honey has been in decline, according to this linear model. Let’s predict what the year 2050 may look like in terms of honey production.\n",
        "\n",
        "La production de miel ne cesse de décliner depuis 2013. Nous allons tenter de prédire quelle sera la production de miel en 2050"
      ]
    },
    {
      "cell_type": "code",
      "metadata": {
        "id": "-QcaQ3pOS2gx",
        "colab_type": "code",
        "outputId": "36877c98-5828-494c-8199-72899e552e45",
        "colab": {
          "base_uri": "https://localhost:8080/",
          "height": 690
        }
      },
      "source": [
        "\"\"\"Predict the Honey Decline\"\"\"\n",
        "\"\"\"Nous allons créer une matrice allant de 2013 à 2050, puis le remodeler...et appliquer l'algorithme d'apprentissage\"\"\"\n",
        "X_future= np.array(range(2013,2050)).reshape(-1,1)\n",
        "print(X_future)"
      ],
      "execution_count": 0,
      "outputs": [
        {
          "output_type": "stream",
          "text": [
            "[[2013]\n",
            " [2014]\n",
            " [2015]\n",
            " [2016]\n",
            " [2017]\n",
            " [2018]\n",
            " [2019]\n",
            " [2020]\n",
            " [2021]\n",
            " [2022]\n",
            " [2023]\n",
            " [2024]\n",
            " [2025]\n",
            " [2026]\n",
            " [2027]\n",
            " [2028]\n",
            " [2029]\n",
            " [2030]\n",
            " [2031]\n",
            " [2032]\n",
            " [2033]\n",
            " [2034]\n",
            " [2035]\n",
            " [2036]\n",
            " [2037]\n",
            " [2038]\n",
            " [2039]\n",
            " [2040]\n",
            " [2041]\n",
            " [2042]\n",
            " [2043]\n",
            " [2044]\n",
            " [2045]\n",
            " [2046]\n",
            " [2047]\n",
            " [2048]\n",
            " [2049]]\n"
          ],
          "name": "stdout"
        }
      ]
    },
    {
      "cell_type": "code",
      "metadata": {
        "id": "XQSaQprVS-Ki",
        "colab_type": "code",
        "outputId": "6bfb65d0-0980-4ad0-eddb-3550f640763c",
        "colab": {
          "base_uri": "https://localhost:8080/",
          "height": 295
        }
      },
      "source": [
        "X = prod_per_year['year'].values.reshape(-1,1)\n",
        "y= prod_per_year['totalprod']\n",
        "plt.scatter(X,y)\n",
        "plt.xlabel(\"Year\")\n",
        "plt.ylabel(\"Total Production\")\n",
        "plt.title(\" Production per year\")\n",
        "future_predict= regr.predict(X_future)\n",
        "plt.plot(X_future, future_predict)\n",
        "plt.show()"
      ],
      "execution_count": 0,
      "outputs": [
        {
          "output_type": "display_data",
          "data": {
            "image/png": "[encoded data removed]",
            "text/plain": [
              "<Figure size 432x288 with 1 Axes>"
            ]
          },
          "metadata": {
            "tags": []
          }
        }
      ]
    },
    {
      "cell_type": "markdown",
      "metadata": {
        "id": "MtLEbtw9XKsw",
        "colab_type": "text"
      },
      "source": [
        "Le graphique indique que la quantité de miel produite ne cessera de diminuer jusqu'en 2050. Toutefois, il serait intéressant de rajouter d'autres paramètres permettant d'expliquer ce phénomène et si l'ajout d'autres données peuvent impacter la chute de productions de miel et dans quelles mesure."
      ]
    }
  ]
}